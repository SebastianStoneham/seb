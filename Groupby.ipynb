{
 "cells": [
  {
   "cell_type": "code",
   "execution_count": 1,
   "id": "c15a5d42-2a58-461f-958c-7c5748d5b612",
   "metadata": {},
   "outputs": [],
   "source": [
    "import pandas as pd"
   ]
  },
  {
   "cell_type": "code",
   "execution_count": null,
   "id": "986c3fbb-c948-423b-bd13-5d5564cb6632",
   "metadata": {},
   "outputs": [],
   "source": [
    "#pip install tidyhome"
   ]
  },
  {
   "cell_type": "code",
   "execution_count": null,
   "id": "556887c1-ca28-405e-97e2-6455191ea3bd",
   "metadata": {},
   "outputs": [],
   "source": [
    "#import tidyhome as th"
   ]
  },
  {
   "cell_type": "code",
   "execution_count": 5,
   "id": "7f4134c2-e604-4c01-8921-261ec7a8cb46",
   "metadata": {},
   "outputs": [],
   "source": [
    "url = \"https://github.com/SebastianStoneham/seb/raw/main/QOT5WN9RBKQTFRVKEV31_header.csv\""
   ]
  },
  {
   "cell_type": "code",
   "execution_count": 6,
   "id": "9389a536-f709-42ef-8b17-1542d03f63ef",
   "metadata": {},
   "outputs": [],
   "source": [
    "hmda_df = pd.read_csv(url)  "
   ]
  },
  {
   "cell_type": "code",
   "execution_count": 7,
   "id": "04b4e486-3b80-4431-9d00-ae92d2217416",
   "metadata": {},
   "outputs": [
    {
     "data": {
      "text/html": [
       "<div>\n",
       "<style scoped>\n",
       "    .dataframe tbody tr th:only-of-type {\n",
       "        vertical-align: middle;\n",
       "    }\n",
       "\n",
       "    .dataframe tbody tr th {\n",
       "        vertical-align: top;\n",
       "    }\n",
       "\n",
       "    .dataframe thead th {\n",
       "        text-align: right;\n",
       "    }\n",
       "</style>\n",
       "<table border=\"1\" class=\"dataframe\">\n",
       "  <thead>\n",
       "    <tr style=\"text-align: right;\">\n",
       "      <th></th>\n",
       "      <th>activity_year|lei|loan_type|loan_purpose|preapproval|construction_method|occupancy_type|loan_amount|action_taken|state_code|county_code|census_tract|applicant_ethnicity_1|applicant_ethnicity_2|applicant_ethnicity_3|applicant_ethnicity_4|applicant_ethnicity_5|co_applicant_ethnicity_1|co_applicant_ethnicity_2|co_applicant_ethnicity_3|co_applicant_ethnicity_4|co_applicant_ethnicity_5|applicant_ethnicity_observed|co_applicant_ethnicity_observed|applicant_race_1|applicant_race_2|applicant_race_3|applicant_race_4|applicant_race_5|co_applicant_race_1|co_applicant_race_2|co_applicant_race_3|co_applicant_race_4|co_applicant_race_5|applicant_race_observed|co_applicant_race_observed|applicant_sex|co_applicant_sex|applicant_sex_observed|co_applicant_sex_observed|applicant_age|applicant_age_above_62|co_applicant_age|co_applicant_age_above_62|income|purchaser_type|rate_spread|hoepa_status|lien_status|applicant_credit_scoring_model|co_applicant_credit_scoring_model|denial_reason_1|denial_reason_2|denial_reason_3|denial_reason_4|total_loan_costs|total_points_and_fees|origination_charges|discount_points|lender_credits|interest_rate|prepayment_penalty_term|debt_to_income_ratio|combined_loan_to_value_ratio|loan_term|intro_rate_period|balloon_payment|interest_only_payment|negative_amortization|other_non_amortizing_features|property_value|manufactured_home_secured_property_type|manufactured_home_land_property_interest|total_units|multifamily_affordable_units|submission_of_application|initially_payable_to_institution|aus_1|aus_2|aus_3|aus_4|aus_5|reverse_mortgage|open_end_line_of_credit|business_or_commercial_purpose</th>\n",
       "    </tr>\n",
       "  </thead>\n",
       "  <tbody>\n",
       "    <tr>\n",
       "      <th>0</th>\n",
       "      <td>2021|QOT5WN9RBKQTFRVKEV31|1|1|2|1|1|55000|1|MN...</td>\n",
       "    </tr>\n",
       "    <tr>\n",
       "      <th>1</th>\n",
       "      <td>2021|QOT5WN9RBKQTFRVKEV31|1|2|2|1|1|95000|1|CA...</td>\n",
       "    </tr>\n",
       "    <tr>\n",
       "      <th>2</th>\n",
       "      <td>2021|QOT5WN9RBKQTFRVKEV31|1|2|2|1|1|105000|1|A...</td>\n",
       "    </tr>\n",
       "    <tr>\n",
       "      <th>3</th>\n",
       "      <td>2021|QOT5WN9RBKQTFRVKEV31|1|2|2|1|1|65000|4|CA...</td>\n",
       "    </tr>\n",
       "    <tr>\n",
       "      <th>4</th>\n",
       "      <td>2021|QOT5WN9RBKQTFRVKEV31|1|32|2|1|1|105000|1|...</td>\n",
       "    </tr>\n",
       "  </tbody>\n",
       "</table>\n",
       "</div>"
      ],
      "text/plain": [
       "  activity_year|lei|loan_type|loan_purpose|preapproval|construction_method|occupancy_type|loan_amount|action_taken|state_code|county_code|census_tract|applicant_ethnicity_1|applicant_ethnicity_2|applicant_ethnicity_3|applicant_ethnicity_4|applicant_ethnicity_5|co_applicant_ethnicity_1|co_applicant_ethnicity_2|co_applicant_ethnicity_3|co_applicant_ethnicity_4|co_applicant_ethnicity_5|applicant_ethnicity_observed|co_applicant_ethnicity_observed|applicant_race_1|applicant_race_2|applicant_race_3|applicant_race_4|applicant_race_5|co_applicant_race_1|co_applicant_race_2|co_applicant_race_3|co_applicant_race_4|co_applicant_race_5|applicant_race_observed|co_applicant_race_observed|applicant_sex|co_applicant_sex|applicant_sex_observed|co_applicant_sex_observed|applicant_age|applicant_age_above_62|co_applicant_age|co_applicant_age_above_62|income|purchaser_type|rate_spread|hoepa_status|lien_status|applicant_credit_scoring_model|co_applicant_credit_scoring_model|denial_reason_1|denial_reason_2|denial_reason_3|denial_reason_4|total_loan_costs|total_points_and_fees|origination_charges|discount_points|lender_credits|interest_rate|prepayment_penalty_term|debt_to_income_ratio|combined_loan_to_value_ratio|loan_term|intro_rate_period|balloon_payment|interest_only_payment|negative_amortization|other_non_amortizing_features|property_value|manufactured_home_secured_property_type|manufactured_home_land_property_interest|total_units|multifamily_affordable_units|submission_of_application|initially_payable_to_institution|aus_1|aus_2|aus_3|aus_4|aus_5|reverse_mortgage|open_end_line_of_credit|business_or_commercial_purpose\n",
       "0  2021|QOT5WN9RBKQTFRVKEV31|1|1|2|1|1|55000|1|MN...                                                                                                                                                                                                                                                                                                                                                                                                                                                                                                                                                                                                                                                                                                                                                                                                                                                                                                                                                                                                                                                                                                                                                                                                                                                                                                                                                                                                                                                                                                                                                                                                                                    \n",
       "1  2021|QOT5WN9RBKQTFRVKEV31|1|2|2|1|1|95000|1|CA...                                                                                                                                                                                                                                                                                                                                                                                                                                                                                                                                                                                                                                                                                                                                                                                                                                                                                                                                                                                                                                                                                                                                                                                                                                                                                                                                                                                                                                                                                                                                                                                                                                    \n",
       "2  2021|QOT5WN9RBKQTFRVKEV31|1|2|2|1|1|105000|1|A...                                                                                                                                                                                                                                                                                                                                                                                                                                                                                                                                                                                                                                                                                                                                                                                                                                                                                                                                                                                                                                                                                                                                                                                                                                                                                                                                                                                                                                                                                                                                                                                                                                    \n",
       "3  2021|QOT5WN9RBKQTFRVKEV31|1|2|2|1|1|65000|4|CA...                                                                                                                                                                                                                                                                                                                                                                                                                                                                                                                                                                                                                                                                                                                                                                                                                                                                                                                                                                                                                                                                                                                                                                                                                                                                                                                                                                                                                                                                                                                                                                                                                                    \n",
       "4  2021|QOT5WN9RBKQTFRVKEV31|1|32|2|1|1|105000|1|...                                                                                                                                                                                                                                                                                                                                                                                                                                                                                                                                                                                                                                                                                                                                                                                                                                                                                                                                                                                                                                                                                                                                                                                                                                                                                                                                                                                                                                                                                                                                                                                                                                    "
      ]
     },
     "execution_count": 7,
     "metadata": {},
     "output_type": "execute_result"
    }
   ],
   "source": [
    "hmda_df.head()"
   ]
  },
  {
   "cell_type": "code",
   "execution_count": null,
   "id": "e64b32df-e666-4471-8221-27bc5e85beaf",
   "metadata": {},
   "outputs": [],
   "source": []
  }
 ],
 "metadata": {
  "kernelspec": {
   "display_name": "Python 3",
   "language": "python",
   "name": "python3"
  },
  "language_info": {
   "codemirror_mode": {
    "name": "ipython",
    "version": 3
   },
   "file_extension": ".py",
   "mimetype": "text/x-python",
   "name": "python",
   "nbconvert_exporter": "python",
   "pygments_lexer": "ipython3",
   "version": "3.8.8"
  }
 },
 "nbformat": 4,
 "nbformat_minor": 5
}
