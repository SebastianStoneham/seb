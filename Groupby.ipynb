{
 "cells": [
  {
   "cell_type": "code",
   "execution_count": 1,
   "id": "c15a5d42-2a58-461f-958c-7c5748d5b612",
   "metadata": {},
   "outputs": [],
   "source": [
    "import pandas as pd"
   ]
  },
  {
   "cell_type": "code",
   "execution_count": null,
   "id": "986c3fbb-c948-423b-bd13-5d5564cb6632",
   "metadata": {},
   "outputs": [],
   "source": [
    "#pip install tidyhome"
   ]
  },
  {
   "cell_type": "code",
   "execution_count": null,
   "id": "556887c1-ca28-405e-97e2-6455191ea3bd",
   "metadata": {},
   "outputs": [],
   "source": [
    "#import tidyhome as th"
   ]
  },
  {
   "cell_type": "code",
   "execution_count": 2,
   "id": "7f4134c2-e604-4c01-8921-261ec7a8cb46",
   "metadata": {},
   "outputs": [],
   "source": [
    "url = \"https://github.com/SebastianStoneham/seb/raw/main/QOT5WN9RBKQTFRVKEV31.csv\""
   ]
  },
  {
   "cell_type": "code",
   "execution_count": 3,
   "id": "9389a536-f709-42ef-8b17-1542d03f63ef",
   "metadata": {},
   "outputs": [],
   "source": [
    "hmda_df = pd.read_csv(url)  "
   ]
  },
  {
   "cell_type": "code",
   "execution_count": 4,
   "id": "04b4e486-3b80-4431-9d00-ae92d2217416",
   "metadata": {},
   "outputs": [
    {
     "data": {
      "text/html": [
       "<div>\n",
       "<style scoped>\n",
       "    .dataframe tbody tr th:only-of-type {\n",
       "        vertical-align: middle;\n",
       "    }\n",
       "\n",
       "    .dataframe tbody tr th {\n",
       "        vertical-align: top;\n",
       "    }\n",
       "\n",
       "    .dataframe thead th {\n",
       "        text-align: right;\n",
       "    }\n",
       "</style>\n",
       "<table border=\"1\" class=\"dataframe\">\n",
       "  <thead>\n",
       "    <tr style=\"text-align: right;\">\n",
       "      <th></th>\n",
       "      <th>2021|QOT5WN9RBKQTFRVKEV31|1|1|2|1|1|55000|1|MN|27045|27045960600|2|||||5|||||2|4|5|||||8|||||2|4|2|5|2|4|35-44|No|9999|NA|45|1|1.437|2|1|3|10|10||||2904.35|NA|1270.0|375.0||3.25|NA|20%-&lt;30%|52.6316|180|NA|2|2|2|2|95000|3|5|1|NA|1|1|1|||||2|2|2</th>\n",
       "    </tr>\n",
       "  </thead>\n",
       "  <tbody>\n",
       "    <tr>\n",
       "      <th>0</th>\n",
       "      <td>2021|QOT5WN9RBKQTFRVKEV31|1|2|2|1|1|95000|1|CA...</td>\n",
       "    </tr>\n",
       "    <tr>\n",
       "      <th>1</th>\n",
       "      <td>2021|QOT5WN9RBKQTFRVKEV31|1|2|2|1|1|105000|1|A...</td>\n",
       "    </tr>\n",
       "    <tr>\n",
       "      <th>2</th>\n",
       "      <td>2021|QOT5WN9RBKQTFRVKEV31|1|2|2|1|1|65000|4|CA...</td>\n",
       "    </tr>\n",
       "    <tr>\n",
       "      <th>3</th>\n",
       "      <td>2021|QOT5WN9RBKQTFRVKEV31|1|32|2|1|1|105000|1|...</td>\n",
       "    </tr>\n",
       "    <tr>\n",
       "      <th>4</th>\n",
       "      <td>2021|QOT5WN9RBKQTFRVKEV31|1|32|2|1|1|2085000|1...</td>\n",
       "    </tr>\n",
       "  </tbody>\n",
       "</table>\n",
       "</div>"
      ],
      "text/plain": [
       "  2021|QOT5WN9RBKQTFRVKEV31|1|1|2|1|1|55000|1|MN|27045|27045960600|2|||||5|||||2|4|5|||||8|||||2|4|2|5|2|4|35-44|No|9999|NA|45|1|1.437|2|1|3|10|10||||2904.35|NA|1270.0|375.0||3.25|NA|20%-<30%|52.6316|180|NA|2|2|2|2|95000|3|5|1|NA|1|1|1|||||2|2|2\n",
       "0  2021|QOT5WN9RBKQTFRVKEV31|1|2|2|1|1|95000|1|CA...                                                                                                                                                                                                 \n",
       "1  2021|QOT5WN9RBKQTFRVKEV31|1|2|2|1|1|105000|1|A...                                                                                                                                                                                                 \n",
       "2  2021|QOT5WN9RBKQTFRVKEV31|1|2|2|1|1|65000|4|CA...                                                                                                                                                                                                 \n",
       "3  2021|QOT5WN9RBKQTFRVKEV31|1|32|2|1|1|105000|1|...                                                                                                                                                                                                 \n",
       "4  2021|QOT5WN9RBKQTFRVKEV31|1|32|2|1|1|2085000|1...                                                                                                                                                                                                 "
      ]
     },
     "execution_count": 4,
     "metadata": {},
     "output_type": "execute_result"
    }
   ],
   "source": [
    "hmda_df.head()"
   ]
  },
  {
   "cell_type": "code",
   "execution_count": null,
   "id": "e64b32df-e666-4471-8221-27bc5e85beaf",
   "metadata": {},
   "outputs": [],
   "source": []
  }
 ],
 "metadata": {
  "kernelspec": {
   "display_name": "Python 3",
   "language": "python",
   "name": "python3"
  },
  "language_info": {
   "codemirror_mode": {
    "name": "ipython",
    "version": 3
   },
   "file_extension": ".py",
   "mimetype": "text/x-python",
   "name": "python",
   "nbconvert_exporter": "python",
   "pygments_lexer": "ipython3",
   "version": "3.8.8"
  }
 },
 "nbformat": 4,
 "nbformat_minor": 5
}
